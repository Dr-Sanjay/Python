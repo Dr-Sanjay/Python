{
  "cells": [
    {
      "cell_type": "markdown",
      "source": [
        "###**Mandatory Python Project (Week-2)**"
      ],
      "metadata": {
        "id": "5eKl_jeKKWnp"
      }
    },
    {
      "cell_type": "markdown",
      "metadata": {
        "id": "GTy1RjrrofFL"
      },
      "source": [
        "Q1: You are working in a bank and you have been given two lists of the employees who worked in 2021. Employee’s name in list 1 are Ramesh, Suresh, Mahesh, Ali, Jacob and Saritha. List 2 contains the names of Ali, Mukesh, Mahesh, Jacob, Sai, Sarita. Please write a program which helps to identify people who are common in both lists. Please do not use any in-built function"
      ]
    },
    {
      "cell_type": "code",
      "source": [
        "list1=['Ramesh','Suresh','Mahesh','Ali','Jacob','Saritha']\n",
        "list2=['Ali','Mukesh','Mahesh','Jacob','Sai','Sarita']\n",
        "list3=list(set(list1).intersection(list2))\n",
        "print(f\"The Common Employees are {list3}\")"
      ],
      "metadata": {
        "colab": {
          "base_uri": "https://localhost:8080/"
        },
        "id": "s1Ywa706Gf21",
        "outputId": "45bcb3e1-e11f-4247-c364-656d18f3d315"
      },
      "execution_count": 1,
      "outputs": [
        {
          "output_type": "stream",
          "name": "stdout",
          "text": [
            "The Common Employees are ['Mahesh', 'Jacob', 'Ali']\n"
          ]
        }
      ]
    },
    {
      "cell_type": "markdown",
      "source": [
        "\n",
        "Q2: While entering data, someone entered a few names as a common string “Ramesh Suresh Mohit”. Please write a program which separates all the names and convert them into a list. Once converted in a list, please write a program which adds their age.\n",
        "Ramesh : 25\n",
        "Suresh : 22\n",
        "Mohit : 26"
      ],
      "metadata": {
        "id": "I39hdpUJ-MvV"
      }
    },
    {
      "cell_type": "code",
      "execution_count": 2,
      "metadata": {
        "colab": {
          "base_uri": "https://localhost:8080/"
        },
        "id": "Bt7IQGdXobJw",
        "outputId": "45bd3ff4-6625-49d9-d660-c2462252c712"
      },
      "outputs": [
        {
          "output_type": "stream",
          "name": "stdout",
          "text": [
            "The Total of Age of Ramesh, Suresh, Mohit is 73 Years\n"
          ]
        }
      ],
      "source": [
        "string='Ramesh Suresh Mohit'\n",
        "New_String=string.split()\n",
        "age=[25,22,26]\n",
        "Z=list(zip(New_String,age))\n",
        "sum=0\n",
        "for i,i in Z:\n",
        "   sum+=i\n",
        "print(f\"The Total of Age of Ramesh, Suresh, Mohit is {sum} Years\")"
      ]
    },
    {
      "cell_type": "markdown",
      "metadata": {
        "id": "zP0f5w6c2vDv"
      },
      "source": [
        "\n",
        "Q3: A few students from a university have taken three exams\n",
        "Name = Sam, Jacy, Tom, Steve\n",
        "Python = 25, 26, 29, 28\n",
        "Statistics = 23, 21, 19, 25\n",
        "SQL = 29, 27, 28, 25\n",
        "Please write a program which calculates mean values (no in-built function for mean) of all three tests and print the highest mean value. Addition and other functions are allowed. Please also report who scored the highest mark in python using programming construct."
      ]
    },
    {
      "cell_type": "code",
      "execution_count": 47,
      "metadata": {
        "colab": {
          "base_uri": "https://localhost:8080/"
        },
        "id": "mpeGHai72YMl",
        "outputId": "10c32eff-d546-45ac-d45a-1c66909edce0"
      },
      "outputs": [
        {
          "output_type": "stream",
          "name": "stdout",
          "text": [
            "The Mean of 3 Subjects for individual students is {'Sam': 25.7, 'Jacy': 24.7, 'Tom': 25.3, 'Steve': 26.0}\n",
            "& The Highest mean is 26.0\n",
            "The Maximum Marks in Python is 29\n"
          ]
        }
      ],
      "source": [
        "python=[25,26,29,28]\n",
        "statistics=[23,21,19,25]\n",
        "sql=[29,27,28,25]\n",
        "list=[python, statistics, sql]\n",
        "mean=[]\n",
        "\n",
        "c=0\n",
        "while c<4:\n",
        "   a=round((python[c]+statistics [c]+sql[c])/3,1)\n",
        "   c=c+1\n",
        "   mean.append(a)\n",
        "\n",
        "students=[\"Sam\",\"Jacy\",\"Tom\",\"Steve\"]\n",
        "D1=dict(zip(students,mean))\n",
        "print (f\"The Mean of 3 Subjects for individual students is {D1}\")\n",
        "print(f\"& The Highest mean is {max(D1.values())}\")\n",
        "\n",
        "m=python[0]\n",
        "for i in range (0,len(python)):\n",
        "  if python[i]>m:\n",
        "   m=python[i]\n",
        "\n",
        "print(f\"The Maximum Marks in Python is {m}\")"
      ]
    },
    {
      "cell_type": "markdown",
      "metadata": {
        "id": "Pmd9oOfMFLFA"
      },
      "source": [
        "Q4: You are working in a medical store. A patient came to your medical store and asked to buy 2 strips of paracetamol, 3 strips of azithromycin and 5 strips of Vitamin C. One strip of paracetamol costs Rs 35, one strip of azithromycin costs Rs 49 and one strip of vitamin c costs Rs. 33. Patient gave you Rs 2000. Please tell us what is the total cost of each medicine, total cost of all medicine and how much money you refunded to the patient?"
      ]
    },
    {
      "cell_type": "code",
      "execution_count": 38,
      "metadata": {
        "colab": {
          "base_uri": "https://localhost:8080/"
        },
        "id": "s9XgCAQGFMiI",
        "outputId": "9e604529-a9e0-4051-a6bf-72d0ba8580fd"
      },
      "outputs": [
        {
          "output_type": "stream",
          "name": "stdout",
          "text": [
            "The total of paracetamol is 70 Rs.\n",
            "The total of azithromycin is 147 Rs.\n",
            "The total of vitamin c is 165 Rs.\n",
            "The Total of All Medicines is 382 Rs.\n",
            "Money to be returned to Patient is 1618 Rs.\n"
          ]
        }
      ],
      "source": [
        "Medicine={\"paracetamol\":35,\"azithromycin\":49,\"vitamin c\":33}\n",
        "Quantity={\"paracetamol\": 2, \"azithromycin\": 3, \"vitamin c\": 5}\n",
        "L=[]\n",
        "\n",
        "for i in Quantity:\n",
        "  L.append(Medicine.get(i)*Quantity.get(i))\n",
        "  print(f\"The total of {i} is {Medicine.get(i)*Quantity.get(i)} Rs.\")\n",
        "\n",
        "total=L[0]+L[1]+L[2]\n",
        "\n",
        "print(f\"The Total of All Medicines is {total} Rs.\")\n",
        "print(f\"Money to be returned to Patient is {2000-total} Rs.\")"
      ]
    },
    {
      "cell_type": "markdown",
      "source": [
        "Q5: Accept a sentence as input and find the number of vowels in it. Assume that the sentence has no punctuation marks. For example: I am learning python contains 6 vowels. This function should be applicable for all other different sentences"
      ],
      "metadata": {
        "id": "Km-iOQTzAmj8"
      }
    },
    {
      "cell_type": "code",
      "execution_count": 45,
      "metadata": {
        "colab": {
          "base_uri": "https://localhost:8080/"
        },
        "id": "KDV_Yovs1N8m",
        "outputId": "1acf35e0-d954-4bf3-d5d4-e1adc8ed5307"
      },
      "outputs": [
        {
          "output_type": "stream",
          "name": "stdout",
          "text": [
            "Enter String:sanjay\n",
            "Number of vowels are: 2\n"
          ]
        }
      ],
      "source": [
        "\n",
        "string=input(\"Enter String:\")\n",
        "vowels=('a','e','i','o','u','A','E','I','O','U')\n",
        "count=0\n",
        "for i in string:\n",
        "  if i in vowels:\n",
        "    count+=1\n",
        "print(f\"Number of vowels are: {count}\")"
      ]
    },
    {
      "cell_type": "markdown",
      "source": [
        "\n",
        "Q6: You have been appointed by the election commission to create a website. Your first task is to work on a program which tells candidates if they are eligible for voting or not. If they are eligible your output should be ‘Congrats! You are eligible’, otherwise it should tell that you have to return after X number of years. Eligibility criteria for voting is 18 years.\n",
        "For example, If someone is 18 or above your output should be ‘Congrats! You are eligible’. If someone’s age is 15 years it should print output as ‘return after 3 years’."
      ],
      "metadata": {
        "id": "tfTwsxp2_ZwL"
      }
    },
    {
      "cell_type": "code",
      "execution_count": 4,
      "metadata": {
        "colab": {
          "base_uri": "https://localhost:8080/"
        },
        "id": "CcXQXF9GPoyF",
        "outputId": "2dff8f09-da82-4030-cb6f-fd2862bf5d51"
      },
      "outputs": [
        {
          "output_type": "stream",
          "name": "stdout",
          "text": [
            "Enter your age12\n",
            "return after 6 years\n"
          ]
        }
      ],
      "source": [
        "a=int(input(\"Enter your age\"))\n",
        "if a>=18:\n",
        "  print (\"Congrats! You are eligible\")\n",
        "else:\n",
        "  print (f\"return after {18-a} years\")"
      ]
    }
  ],
  "metadata": {
    "colab": {
      "provenance": []
    },
    "kernelspec": {
      "display_name": "Python 3",
      "name": "python3"
    },
    "language_info": {
      "name": "python"
    }
  },
  "nbformat": 4,
  "nbformat_minor": 0
}