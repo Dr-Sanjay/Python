{
 "cells": [
  {
   "cell_type": "code",
   "execution_count": 2,
   "id": "a38ed7a0",
   "metadata": {},
   "outputs": [],
   "source": [
    "a='Sanjay'"
   ]
  },
  {
   "cell_type": "code",
   "execution_count": 3,
   "id": "07941b33",
   "metadata": {},
   "outputs": [
    {
     "data": {
      "text/plain": [
       "str"
      ]
     },
     "execution_count": 3,
     "metadata": {},
     "output_type": "execute_result"
    }
   ],
   "source": [
    "type(a)"
   ]
  },
  {
   "cell_type": "code",
   "execution_count": 20,
   "id": "02b39e23",
   "metadata": {},
   "outputs": [
    {
     "ename": "IndexError",
     "evalue": "string index out of range",
     "output_type": "error",
     "traceback": [
      "\u001b[1;31m---------------------------------------------------------------------------\u001b[0m",
      "\u001b[1;31mIndexError\u001b[0m                                Traceback (most recent call last)",
      "\u001b[1;32m~\\AppData\\Local\\Temp\\ipykernel_9336\\767257108.py\u001b[0m in \u001b[0;36m<module>\u001b[1;34m\u001b[0m\n\u001b[1;32m----> 1\u001b[1;33m \u001b[0ma\u001b[0m\u001b[1;33m[\u001b[0m\u001b[1;36m8\u001b[0m\u001b[1;33m]\u001b[0m\u001b[1;33m\u001b[0m\u001b[1;33m\u001b[0m\u001b[0m\n\u001b[0m",
      "\u001b[1;31mIndexError\u001b[0m: string index out of range"
     ]
    }
   ],
   "source": [
    "a[8]    #individual index error but no error in range"
   ]
  },
  {
   "cell_type": "code",
   "execution_count": 22,
   "id": "b69a721b",
   "metadata": {},
   "outputs": [
    {
     "data": {
      "text/plain": [
       "'San'"
      ]
     },
     "execution_count": 22,
     "metadata": {},
     "output_type": "execute_result"
    }
   ],
   "source": [
    "a[0:3]  #upper bound excluded"
   ]
  },
  {
   "cell_type": "code",
   "execution_count": 23,
   "id": "437ca261",
   "metadata": {},
   "outputs": [
    {
     "data": {
      "text/plain": [
       "'Sanj'"
      ]
     },
     "execution_count": 23,
     "metadata": {},
     "output_type": "execute_result"
    }
   ],
   "source": [
    "a[0:4]     # positive jump give result"
   ]
  },
  {
   "cell_type": "code",
   "execution_count": 24,
   "id": "5eb5213f",
   "metadata": {
    "scrolled": true
   },
   "outputs": [
    {
     "data": {
      "text/plain": [
       "''"
      ]
     },
     "execution_count": 24,
     "metadata": {},
     "output_type": "execute_result"
    }
   ],
   "source": [
    "a[4:0]      # negative jump no result"
   ]
  },
  {
   "cell_type": "code",
   "execution_count": 26,
   "id": "e7c5e9ba",
   "metadata": {},
   "outputs": [
    {
     "data": {
      "text/plain": [
       "'Sna'"
      ]
     },
     "execution_count": 26,
     "metadata": {},
     "output_type": "execute_result"
    }
   ],
   "source": [
    "a[0:30:2]   #1_start,2 End index, 3 jump by defalt jump is 1"
   ]
  },
  {
   "cell_type": "code",
   "execution_count": 28,
   "id": "bc0577ff",
   "metadata": {},
   "outputs": [
    {
     "data": {
      "text/plain": [
       "''"
      ]
     },
     "execution_count": 28,
     "metadata": {},
     "output_type": "execute_result"
    }
   ],
   "source": [
    "a[0:30:-2]   #negative jump not allowed positive scaling only"
   ]
  },
  {
   "cell_type": "code",
   "execution_count": 30,
   "id": "13c5bff5",
   "metadata": {},
   "outputs": [
    {
     "data": {
      "text/plain": [
       "'yja'"
      ]
     },
     "execution_count": 30,
     "metadata": {},
     "output_type": "execute_result"
    }
   ],
   "source": [
    "a[30:0:-2]    # same direction jump as scale"
   ]
  },
  {
   "cell_type": "code",
   "execution_count": 36,
   "id": "903b5b0c",
   "metadata": {},
   "outputs": [
    {
     "data": {
      "text/plain": [
       "'S'"
      ]
     },
     "execution_count": 36,
     "metadata": {},
     "output_type": "execute_result"
    }
   ],
   "source": [
    "a[0:30:7]     # if jump is>str only first char show"
   ]
  },
  {
   "cell_type": "code",
   "execution_count": 37,
   "id": "91200d2d",
   "metadata": {},
   "outputs": [
    {
     "data": {
      "text/plain": [
       "'Sanjay'"
      ]
     },
     "execution_count": 37,
     "metadata": {},
     "output_type": "execute_result"
    }
   ],
   "source": [
    "a[::]     "
   ]
  },
  {
   "cell_type": "code",
   "execution_count": 40,
   "id": "8b8d7f9d",
   "metadata": {},
   "outputs": [
    {
     "data": {
      "text/plain": [
       "'San'"
      ]
     },
     "execution_count": 40,
     "metadata": {},
     "output_type": "execute_result"
    }
   ],
   "source": [
    "a[:3]"
   ]
  },
  {
   "cell_type": "code",
   "execution_count": 41,
   "id": "9d0d823e",
   "metadata": {},
   "outputs": [
    {
     "data": {
      "text/plain": [
       "'njay'"
      ]
     },
     "execution_count": 41,
     "metadata": {},
     "output_type": "execute_result"
    }
   ],
   "source": [
    "a[2:]"
   ]
  },
  {
   "cell_type": "code",
   "execution_count": 42,
   "id": "2c72605d",
   "metadata": {},
   "outputs": [
    {
     "data": {
      "text/plain": [
       "'yajnaS'"
      ]
     },
     "execution_count": 42,
     "metadata": {},
     "output_type": "execute_result"
    }
   ],
   "source": [
    "a[::-1]"
   ]
  },
  {
   "cell_type": "code",
   "execution_count": 43,
   "id": "214463bd",
   "metadata": {},
   "outputs": [
    {
     "data": {
      "text/plain": [
       "'yajnaS'"
      ]
     },
     "execution_count": 43,
     "metadata": {},
     "output_type": "execute_result"
    }
   ],
   "source": [
    "a[-1::-1]"
   ]
  },
  {
   "cell_type": "code",
   "execution_count": 47,
   "id": "9b4117e1",
   "metadata": {},
   "outputs": [
    {
     "data": {
      "text/plain": [
       "'Sanjay'"
      ]
     },
     "execution_count": 47,
     "metadata": {},
     "output_type": "execute_result"
    }
   ],
   "source": [
    "a[-7:7]"
   ]
  },
  {
   "cell_type": "code",
   "execution_count": 49,
   "id": "92c9c186",
   "metadata": {},
   "outputs": [
    {
     "data": {
      "text/plain": [
       "''"
      ]
     },
     "execution_count": 49,
     "metadata": {},
     "output_type": "execute_result"
    }
   ],
   "source": [
    "a[-3:3]"
   ]
  },
  {
   "cell_type": "code",
   "execution_count": 50,
   "id": "7f6a8706",
   "metadata": {},
   "outputs": [
    {
     "data": {
      "text/plain": [
       "'nj'"
      ]
     },
     "execution_count": 50,
     "metadata": {},
     "output_type": "execute_result"
    }
   ],
   "source": [
    "a[-4:4]"
   ]
  },
  {
   "cell_type": "code",
   "execution_count": 51,
   "id": "5a4ed6d8",
   "metadata": {},
   "outputs": [
    {
     "data": {
      "text/plain": [
       "''"
      ]
     },
     "execution_count": 51,
     "metadata": {},
     "output_type": "execute_result"
    }
   ],
   "source": [
    "a[3:-3]"
   ]
  }
 ],
 "metadata": {
  "kernelspec": {
   "display_name": "Python 3 (ipykernel)",
   "language": "python",
   "name": "python3"
  },
  "language_info": {
   "codemirror_mode": {
    "name": "ipython",
    "version": 3
   },
   "file_extension": ".py",
   "mimetype": "text/x-python",
   "name": "python",
   "nbconvert_exporter": "python",
   "pygments_lexer": "ipython3",
   "version": "3.9.13"
  }
 },
 "nbformat": 4,
 "nbformat_minor": 5
}
